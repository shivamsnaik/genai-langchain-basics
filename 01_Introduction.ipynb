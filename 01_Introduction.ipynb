{
 "cells": [
  {
   "cell_type": "markdown",
   "id": "582cbcba-659f-44ff-b4d1-8006f8f021a8",
   "metadata": {},
   "source": [
    "# LangChain"
   ]
  },
  {
   "cell_type": "markdown",
   "id": "63677316-db6e-4019-9c3b-30e0e1790bf4",
   "metadata": {
    "jp-MarkdownHeadingCollapsed": true
   },
   "source": [
    "## What is Langchain?\n",
    "- Open-source development framework for LLM applications.\n",
    "- Contains both Python-based and JavaScript (or TypeScript) based packages.\n",
    "- Focuses on modular process and composition.\n",
    "\n",
    "### The key value additions from Langchain to traditional LLM development are:\n",
    "- Modular Components\n",
    "- Use Cases: Common ways to combile components with examples for majorly available LLM providers."
   ]
  },
  {
   "cell_type": "markdown",
   "id": "fdc298ba-9df8-49f5-8720-0a6c6f3ae9ab",
   "metadata": {},
   "source": [
    "## Common Components: \n",
    "### Models\n",
    "---\n",
    "- LLMs: 20+ integrations present.\n",
    "- Chat Models are also supported.\n",
    "- Text Embedding Models are present in order to create RAG based systems.\n",
    "\n",
    "### Prompts\n",
    "---\n",
    "- Prompt Templates to easily build prompt structures.\n",
    "- Output parsers: 5+ implementations to process different outputs and parse information.\n",
    "    - Retry/fixing logic \n",
    "- Example Selectors: 5+ implementations.\n",
    "\n",
    "### Indexes\n",
    "---\n",
    "- Document Loaders: To load documents from local systems/servers to load own data.\n",
    "- Text Splitters: Logic to pre-process the loaded documents.\n",
    "- Vector Stores: To store articles in the form of vectors using embeddings in order to perform similarity search in case of RAG.\n",
    "- Retrievers: Implementations to retrieve relevant articles/documents from the vector stores.\n",
    "\n",
    "### Chains\n",
    "---\n",
    "- Sequencial chaining of different operations such as \"prompts + llm + output parsing\".\n",
    "- Can be used for building blocks for longer chains.\n",
    "- Readily available application specific chains: 20+ types.\n",
    "\n",
    "### Agents\n",
    "---\n",
    "- Agent Types: Different types of agents to perform different operations.\n",
    "    - Algorithms for getting LLMs to use tools.\n",
    "- Agent Toolkits: 10+ implementations.\n",
    "    - Agents armed with specific tools for a specific applications.   "
   ]
  },
  {
   "cell_type": "code",
   "execution_count": null,
   "id": "bb5500a3-5d12-42a1-b096-5c6139d2925a",
   "metadata": {},
   "outputs": [],
   "source": []
  }
 ],
 "metadata": {
  "kernelspec": {
   "display_name": "Python 3 (ipykernel)",
   "language": "python",
   "name": "python3"
  },
  "language_info": {
   "codemirror_mode": {
    "name": "ipython",
    "version": 3
   },
   "file_extension": ".py",
   "mimetype": "text/x-python",
   "name": "python",
   "nbconvert_exporter": "python",
   "pygments_lexer": "ipython3",
   "version": "3.9.19"
  }
 },
 "nbformat": 4,
 "nbformat_minor": 5
}
